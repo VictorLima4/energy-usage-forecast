{
 "cells": [
  {
   "cell_type": "code",
   "execution_count": null,
   "metadata": {},
   "outputs": [],
   "source": [
    "#Imports\n",
    "import pandas as pd\n",
    "import numpy as np\n",
    "import matplotlib.pyplot as plt\n",
    "import seaborn as sns\n",
    "import xgboost as xgb\n",
    "import sklearn as skl\n",
    "from datetime import datetime\n",
    "from sklearn.metrics import mean_squared_error\n",
    "from sklearn.metrics import mean_absolute_error\n",
    "from sklearn.model_selection import RandomizedSearchCV, GridSearchCV\n",
    "from sklearn.metrics import roc_auc_score\n",
    "from sklearn.model_selection import StratifiedKFold\n",
    "from sklearn.model_selection import TimeSeriesSplit\n",
    "plt.style.use('fivethirtyeight')\n",
    "color_pal = sns.color_palette()"
   ]
  },
  {
   "cell_type": "code",
   "execution_count": null,
   "metadata": {},
   "outputs": [],
   "source": [
    "#Reading data + Indexing\n",
    "df = pd.read_csv(\"PJME_hourly.csv\")\n",
    "df = df.set_index(\"Datetime\")\n",
    "df.index = pd.to_datetime(df.index)"
   ]
  },
  {
   "cell_type": "code",
   "execution_count": null,
   "metadata": {},
   "outputs": [],
   "source": [
    "#Plot the whole data \n",
    "df.plot(style='.',\n",
    "        figsize=(15,5),\n",
    "        color=color_pal[0],\n",
    "        title='PJME usage in MW')\n",
    "plt.show()"
   ]
  },
  {
   "cell_type": "code",
   "execution_count": null,
   "metadata": {},
   "outputs": [],
   "source": [
    "#Outlier Removal\n",
    "df = df.query('PJME_MW > 19_000').copy()\n"
   ]
  },
  {
   "cell_type": "code",
   "execution_count": null,
   "metadata": {},
   "outputs": [],
   "source": [
    "# Feature Creation\n",
    "def create_features(df):\n",
    "    \"\"\"\n",
    "    Create Features\n",
    "    \"\"\"\n",
    "    df = df.copy()\n",
    "    df[\"year\"] = df.index.year\n",
    "    df[\"quarter\"] = df.index.quarter\n",
    "    df[\"month\"] = df.index.month\n",
    "    df[\"day_of_week\"] = df.index.weekday\n",
    "    df[\"day_of_month\"] = df.index.day\n",
    "    df[\"day_of_year\"] = df.index.dayofyear\n",
    "    df[\"hour\"] = df.index.hour\n",
    "    return df\n",
    "\n",
    "df = create_features(df)"
   ]
  },
  {
   "cell_type": "code",
   "execution_count": null,
   "metadata": {},
   "outputs": [],
   "source": [
    "# Lag Features   # Setting up 364 day max lag makes so that we can only predict 364 days into the future\n",
    "def add_lags(df):\n",
    "    target_map = df['PJME_MW'].to_dict()\n",
    "    df['lag1'] = (df.index - pd.Timedelta('364 days')).map(target_map)\n",
    "    df['lag2'] = (df.index - pd.Timedelta('728 days')).map(target_map)\n",
    "    df['lag3'] = (df.index - pd.Timedelta('1092 days')).map(target_map)\n",
    "    return df\n",
    "\n",
    "df = add_lags(df)"
   ]
  },
  {
   "cell_type": "code",
   "execution_count": null,
   "metadata": {},
   "outputs": [],
   "source": [
    "# Train/Test Split\n",
    "train = df.loc[df.index < \"01-01-2016\"]\n",
    "test = df.loc[df.index >= \"01-01-2016\"]\n",
    "\n",
    "fig, ax = plt.subplots(figsize=(15,5))\n",
    "train['PJME_MW'].plot(ax=ax,\n",
    "           label = \"Training Set\",\n",
    "           title = \"Train/Slipt\"\n",
    "        )\n",
    "test['PJME_MW'].plot(ax=ax,\n",
    "           label = \"Test Set\"\n",
    "        )\n",
    "ax.axvline(\"01-01-2016\",\n",
    "          color = \"black\",\n",
    "          ls = \"--\"\n",
    "           )\n",
    "ax.legend([\"Training Set\",\"Test Set\"])\n",
    "plt.show()"
   ]
  },
  {
   "cell_type": "code",
   "execution_count": null,
   "metadata": {},
   "outputs": [],
   "source": [
    "#Create Model\n",
    "train = create_features(train)\n",
    "test = create_features(test)\n",
    "FEATURES = ['hour','day_of_year','day_of_month','day_of_week','month','quarter','year','lag1','lag2','lag3']\n",
    "TARGET = 'PJME_MW'"
   ]
  },
  {
   "cell_type": "code",
   "execution_count": null,
   "metadata": {},
   "outputs": [],
   "source": [
    "#Visualizing the Data (Day of the Month)\n",
    "fig, ax = plt.subplots(figsize=(20, 8))\n",
    "sns.boxplot(data=df,\n",
    "            x='hour',\n",
    "            y='PJME_MW'\n",
    "            )\n",
    "ax.set_title(\"Energy Usage per Hour\")\n",
    "plt.show()"
   ]
  },
  {
   "cell_type": "code",
   "execution_count": null,
   "metadata": {},
   "outputs": [],
   "source": [
    "#Visualizing the Data (Day of the Week)\n",
    "fig, ax = plt.subplots(figsize=(20, 8))\n",
    "sns.boxplot(data=df,\n",
    "            x='day_of_week',\n",
    "            y='PJME_MW'\n",
    "            )\n",
    "ax.set_title(\"Energy Usage per Day of the Week\")\n",
    "plt.show()"
   ]
  },
  {
   "cell_type": "code",
   "execution_count": null,
   "metadata": {},
   "outputs": [],
   "source": [
    "#Visualizing the Data (Day of the Month)\n",
    "fig, ax = plt.subplots(figsize=(20, 8))\n",
    "sns.boxplot(data=df,\n",
    "            x='day_of_month',\n",
    "            y='PJME_MW'\n",
    "            )\n",
    "ax.set_title(\"Energy Usage per Day of the Month\")\n",
    "plt.show()"
   ]
  },
  {
   "cell_type": "code",
   "execution_count": null,
   "metadata": {},
   "outputs": [],
   "source": [
    "#Visualizing the Data (Month)\n",
    "fig, ax = plt.subplots(figsize=(20, 8))\n",
    "sns.boxplot(data=df,\n",
    "            x='month',\n",
    "            y='PJME_MW'\n",
    "            )\n",
    "ax.set_title(\"Energy Usage per Month\")\n",
    "plt.show()"
   ]
  },
  {
   "cell_type": "code",
   "execution_count": null,
   "metadata": {},
   "outputs": [],
   "source": [
    "#Visualizing the Data (Quarter)\n",
    "fig, ax = plt.subplots(figsize=(20, 8))\n",
    "sns.boxplot(data=df,\n",
    "            x='quarter',\n",
    "            y='PJME_MW'\n",
    "            )\n",
    "ax.set_title(\"Energy Usage per Quarter\")\n",
    "plt.show()"
   ]
  },
  {
   "cell_type": "code",
   "execution_count": null,
   "metadata": {},
   "outputs": [],
   "source": [
    "x_train = train[FEATURES]\n",
    "y_train = train[TARGET]\n",
    "\n",
    "x_test = test[FEATURES]\n",
    "y_test = test[TARGET]"
   ]
  },
  {
   "cell_type": "code",
   "execution_count": null,
   "metadata": {},
   "outputs": [],
   "source": [
    "#Hyperparameter Tunning\n",
    "    #Here is where we can tune our model to make it as efficient as it can be (If we select too many options it could take a very long time to run cause of the size of our dataset)\n",
    "def hyperParameterTuning(x_train, y_train):\n",
    "    param_tuning = {\n",
    "        'booster':['gbtree','gblinear'],\n",
    "        'tree_method':['exact','hist','approx'],\n",
    "        #'max_bin': [300, 400, 500],\n",
    "        'learning_rate': [0.1, 1],\n",
    "        #'max_depth': [3, 8, 9],\n",
    "        #'min_child_weight': [3, 8, 10],\n",
    "        #'subsample': [0.1, 0.3, 0.5],\n",
    "        #'colsample_bytree': [0.1, 0.3, 0.5],\n",
    "        'n_estimators' : [400, 500],\n",
    "        'objective': ['reg:squarederror', 'reg:linear']\n",
    "    }\n",
    "\n",
    "    reg = xgb.XGBRegressor()\n",
    "\n",
    "    gsearch = GridSearchCV(estimator = reg,\n",
    "                           param_grid = param_tuning,                        \n",
    "                           #scoring = 'neg_mean_absolute_error', #MAE\n",
    "                           #scoring = 'neg_mean_squared_error',  #MSE\n",
    "                           cv = 5,\n",
    "                           n_jobs = -1,\n",
    "                           verbose = 1)\n",
    "\n",
    "    gsearch.fit(x_train,y_train)\n",
    "\n",
    "    return gsearch.best_params_"
   ]
  },
  {
   "cell_type": "code",
   "execution_count": null,
   "metadata": {},
   "outputs": [],
   "source": [
    "#hyperParameterTuning(x_train,y_train)"
   ]
  },
  {
   "cell_type": "code",
   "execution_count": null,
   "metadata": {},
   "outputs": [],
   "source": [
    "# Best Fit\n",
    "        #Here we run the best setting we get from the hyperparameter tunning fuction and compare it with the testing data\n",
    "        #Also saves the last run in a .json file so we can load it again\n",
    "reg = xgb.XGBRegressor(base_score=0.5,\n",
    "                       objective='reg:linear',\n",
    "                       booster='gbtree',\n",
    "                       tree_method ='hist',\n",
    "                       n_estimators = 1000,\n",
    "                       colsample_bytree = 0.1,\n",
    "                       max_depth = 8,\n",
    "                       min_child_weight = 0,\n",
    "                       max_bin = 300,\n",
    "                       learning_rate = 0.01,\n",
    "                       early_stopping_rounds = 50,\n",
    "                       subsample = 0.5\n",
    "                       )\n",
    "reg.fit(x_train, y_train,\n",
    "        eval_set = [(x_train, y_train), (x_test, y_test)],\n",
    "        verbose = 100)\n",
    "\n",
    "reg.save_model('last_run.json')"
   ]
  },
  {
   "cell_type": "code",
   "execution_count": null,
   "metadata": {},
   "outputs": [],
   "source": [
    "#Feature Importance\n",
    "    #How much of each feature was taken in consideration when trainning the model\n",
    "fi = pd.DataFrame(data=reg.feature_importances_,\n",
    "             index=reg.feature_names_in_,\n",
    "             columns=['Importance']\n",
    ")\n",
    "fi.sort_values('Importance').plot(kind='barh',\n",
    "                                  title='Feature Importance')\n",
    "plt.show()"
   ]
  },
  {
   "cell_type": "code",
   "execution_count": null,
   "metadata": {},
   "outputs": [],
   "source": [
    "#Creates the predictions values\n",
    "    #Saves it on a .csv file\n",
    "test['prediction'] = reg.predict(x_test)\n",
    "df = df.merge(test[['prediction']], how = 'left', left_index = True, right_index = True)\n",
    "df.to_csv(r'G:\\Meu Drive\\Documents\\Currículo\\Portfolio\\Energy Consumption Forecast\\result.csv')"
   ]
  },
  {
   "cell_type": "code",
   "execution_count": null,
   "metadata": {},
   "outputs": [],
   "source": [
    "#Plot the comparison between the actuals and the predictions\n",
    "ax = df[['PJME_MW']].plot(figsize = (20,8))\n",
    "df[\"prediction\"].plot(ax=ax, style = '-')\n",
    "plt.legend(['Truth Data','Predictions'])\n",
    "ax.set_title('Raw Data and Predictions')\n",
    "plt.show()"
   ]
  },
  {
   "cell_type": "code",
   "execution_count": null,
   "metadata": {},
   "outputs": [],
   "source": [
    "#RMSE Score\n",
    "    #This is used to score our model, improving the model should make this number lower\n",
    "score = np.sqrt(mean_squared_error(test['PJME_MW'], test['prediction']))\n",
    "print(f'RMSE Score on test set: {score:0.2f}')"
   ]
  },
  {
   "cell_type": "code",
   "execution_count": null,
   "metadata": {},
   "outputs": [],
   "source": [
    "test['error'] = np.abs(test[TARGET]-test['prediction'])"
   ]
  },
  {
   "cell_type": "code",
   "execution_count": null,
   "metadata": {},
   "outputs": [],
   "source": [
    "#Worst Predictions\n",
    "test.groupby(['Datetime'])['error'].mean().sort_values(ascending=False).head(5)"
   ]
  },
  {
   "cell_type": "code",
   "execution_count": null,
   "metadata": {},
   "outputs": [],
   "source": [
    "#Best Predictions\n",
    "test.groupby('Datetime')['error'].mean().sort_values(ascending=True).head(5)"
   ]
  },
  {
   "cell_type": "code",
   "execution_count": null,
   "metadata": {},
   "outputs": [],
   "source": [
    "#Now we will train the model again, but this time with the whole dataset in order to predict into the future\n",
    "df = create_features(df)\n",
    "FEATURES = ['hour','day_of_year','day_of_month','day_of_week','month','quarter','year','lag1','lag2','lag3']\n",
    "TARGET = 'PJME_MW'\n",
    "\n",
    "x_all = df[FEATURES]\n",
    "y_all = df[TARGET]"
   ]
  },
  {
   "cell_type": "code",
   "execution_count": null,
   "metadata": {},
   "outputs": [],
   "source": [
    "#Second trainning\n",
    "reg = xgb.XGBRegressor(base_score=0.5,\n",
    "                       objective='reg:linear',\n",
    "                       booster='gbtree',\n",
    "                       tree_method ='hist',\n",
    "                       n_estimators = 1000,\n",
    "                       colsample_bytree = 0.1,\n",
    "                       max_depth = 8,\n",
    "                       min_child_weight = 0,\n",
    "                       max_bin = 300,\n",
    "                       learning_rate = 0.01,\n",
    "                       early_stopping_rounds = 50,\n",
    "                       subsample = 0.5\n",
    "                       )\n",
    "reg.fit(x_all, y_all,\n",
    "        eval_set = [(x_all, y_all)],\n",
    "        verbose = 100)\n",
    "\n",
    "reg.save_model('last_run.json')"
   ]
  },
  {
   "cell_type": "code",
   "execution_count": null,
   "metadata": {},
   "outputs": [],
   "source": [
    "#Create future dataframe\n",
    "future = pd.date_range('2018-01-03','2019-08-01', freq='1h')\n",
    "future_df = pd.DataFrame(index = future)\n",
    "future_df['isFuture'] = True\n",
    "df['isFuture'] = False\n",
    "df_and_future = pd.concat([df, future_df])\n",
    "df_and_future = create_features(df_and_future)\n",
    "df_and_future = add_lags(df_and_future)"
   ]
  },
  {
   "cell_type": "code",
   "execution_count": null,
   "metadata": {},
   "outputs": [],
   "source": [
    "#Gets only the future part of the dataframe\n",
    "futue_w_features = df_and_future.query('isFuture').copy()"
   ]
  },
  {
   "cell_type": "code",
   "execution_count": null,
   "metadata": {},
   "outputs": [],
   "source": [
    "#Predict the future\n",
    "futue_w_features['pred'] = reg.predict(futue_w_features[FEATURES])"
   ]
  },
  {
   "cell_type": "code",
   "execution_count": null,
   "metadata": {},
   "outputs": [],
   "source": [
    "#Plot the Future Predictions\n",
    "futue_w_features['pred'].plot(figsize = (10,5),\n",
    "                              title = 'Future Predictions')\n",
    "plt.show()"
   ]
  }
 ],
 "metadata": {
  "kernelspec": {
   "display_name": "Python 3",
   "language": "python",
   "name": "python3"
  },
  "language_info": {
   "codemirror_mode": {
    "name": "ipython",
    "version": 3
   },
   "file_extension": ".py",
   "mimetype": "text/x-python",
   "name": "python",
   "nbconvert_exporter": "python",
   "pygments_lexer": "ipython3",
   "version": "3.10.4"
  }
 },
 "nbformat": 4,
 "nbformat_minor": 2
}
